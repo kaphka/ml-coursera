{
 "cells": [
  {
   "cell_type": "code",
   "execution_count": 1,
   "metadata": {
    "collapsed": true
   },
   "outputs": [],
   "source": [
    "%matplotlib inline\n",
    "from pathlib import Path\n",
    "import pandas as pd\n",
    "import numpy as np\n",
    "import matplotlib.pyplot as plt\n",
    "import seaborn as sns"
   ]
  },
  {
   "cell_type": "markdown",
   "metadata": {},
   "source": [
    "Load Data"
   ]
  },
  {
   "cell_type": "code",
   "execution_count": 93,
   "metadata": {
    "collapsed": false
   },
   "outputs": [
    {
     "data": {
      "image/png": "[encoded data removed]",
      "text/plain": [
       "<matplotlib.figure.Figure at 0x111e05b38>"
      ]
     },
     "metadata": {},
     "output_type": "display_data"
    }
   ],
   "source": [
    "data = pd.read_csv(\"machine-learning-ex1/ex1/ex1data1.txt\",header=None, names=['X', 'y'])\n",
    "plot = plt.scatter(data.X,data.y)\n",
    "X = data.X\n",
    "X = pd.concat([X,pd.Series([1.0]*len(X))],axis=1,)\n",
    "theta = np.zeros(2)\n",
    "y = data.y"
   ]
  },
  {
   "cell_type": "markdown",
   "metadata": {},
   "source": [
    "Cost: $J(\\theta) = \\frac{1}{2m}\\sum\\limits_{i=0}^{m}{(h_\\theta(x^i) - y^i)^2} $"
   ]
  },
  {
   "cell_type": "code",
   "execution_count": 91,
   "metadata": {
    "collapsed": true
   },
   "outputs": [],
   "source": [
    "def J(X,y, theta):\n",
    "    return np.sum(np.square(np.dot(X,theta) - y)) / (2 * len(X))"
   ]
  },
  {
   "cell_type": "code",
   "execution_count": 128,
   "metadata": {
    "collapsed": false
   },
   "outputs": [],
   "source": [
    "def gradientDescent(X,y, iteration=1000, alpha=0.01):\n",
    "    theta = np.zeros(len(X.columns))\n",
    "    for _ in range(iteration):\n",
    "#         print(J(X,y,theta))\n",
    "        theta = theta - alpha/(len(X)) * np.sum((np.dot(X,theta) - y) * X.transpose(),axis=1)\n",
    "        return theta"
   ]
  },
  {
   "cell_type": "code",
   "execution_count": 95,
   "metadata": {
    "collapsed": false
   },
   "outputs": [
    {
     "data": {
      "text/plain": [
       "32.072733877455676"
      ]
     },
     "execution_count": 95,
     "metadata": {},
     "output_type": "execute_result"
    }
   ],
   "source": [
    "J(X,y,theta)"
   ]
  },
  {
   "cell_type": "code",
   "execution_count": 140,
   "metadata": {
    "collapsed": false,
    "scrolled": true
   },
   "outputs": [],
   "source": [
    "theta = gradientDescent(X,y)"
   ]
  },
  {
   "cell_type": "code",
   "execution_count": 130,
   "metadata": {
    "collapsed": false
   },
   "outputs": [
    {
     "data": {
      "text/plain": [
       "X    6336.898425\n",
       "0     566.396100\n",
       "dtype: float64"
      ]
     },
     "execution_count": 130,
     "metadata": {},
     "output_type": "execute_result"
    }
   ],
   "source": [
    "theta - np.sum((np.dot(X,theta) - y) * X.transpose(),axis=1)"
   ]
  },
  {
   "cell_type": "code",
   "execution_count": 137,
   "metadata": {
    "collapsed": false
   },
   "outputs": [
    {
     "data": {
      "text/plain": [
       "array([  5.0269,   6.0269,   7.0269,   8.0269,   9.0269,  10.0269,\n",
       "        11.0269,  12.0269,  13.0269,  14.0269,  15.0269,  16.0269,\n",
       "        17.0269,  18.0269,  19.0269,  20.0269,  21.0269,  22.0269])"
      ]
     },
     "execution_count": 137,
     "metadata": {},
     "output_type": "execute_result"
    }
   ],
   "source": [
    "np.arange(X.X.min(),X.X.max())"
   ]
  },
  {
   "cell_type": "code",
   "execution_count": 141,
   "metadata": {
    "collapsed": false
   },
   "outputs": [
    {
     "data": {
      "text/plain": [
       "X    0.653288\n",
       "0    0.058391\n",
       "dtype: float64"
      ]
     },
     "execution_count": 141,
     "metadata": {},
     "output_type": "execute_result"
    }
   ],
   "source": [
    "theta"
   ]
  },
  {
   "cell_type": "code",
   "execution_count": 148,
   "metadata": {
    "collapsed": false
   },
   "outputs": [
    {
     "data": {
      "text/plain": [
       "[<matplotlib.lines.Line2D at 0x111626c50>]"
      ]
     },
     "execution_count": 148,
     "metadata": {},
     "output_type": "execute_result"
    },
    {
     "data": {
      "image/png": "[encoded data removed]",
      "text/plain": [
       "<matplotlib.figure.Figure at 0x111626c18>"
      ]
     },
     "metadata": {},
     "output_type": "display_data"
    }
   ],
   "source": [
    "plot = plt.scatter(data.X,data.y)\n",
    "plt.plot([X.X.min(),X.X.max()], [X.X.min() * theta.X + theta[1],X.X.max() * theta.X + theta[1]], 'r')"
   ]
  },
  {
   "cell_type": "code",
   "execution_count": 150,
   "metadata": {
    "collapsed": false
   },
   "outputs": [],
   "source": [
    "import keras as ks"
   ]
  },
  {
   "cell_type": "code",
   "execution_count": 151,
   "metadata": {
    "collapsed": true
   },
   "outputs": [],
   "source": []
  },
  {
   "cell_type": "code",
   "execution_count": 223,
   "metadata": {
    "collapsed": false
   },
   "outputs": [],
   "source": [
    "prices = ks.models.Sequential()\n",
    "prices.add(ks.layers.Dense(32, input_dim=2))\n",
    "prices.add(ks.layers.Dense(1, input_dim=32))"
   ]
  },
  {
   "cell_type": "code",
   "execution_count": 224,
   "metadata": {
    "collapsed": false
   },
   "outputs": [],
   "source": [
    "sgd = keras.optimizers.SGD(lr=0.001)\n",
    "prices.compile(optimizer=sgd,\n",
    "              loss='mean_squared_error')"
   ]
  },
  {
   "cell_type": "code",
   "execution_count": 225,
   "metadata": {
    "collapsed": false
   },
   "outputs": [
    {
     "name": "stdout",
     "output_type": "stream",
     "text": [
      "Epoch 1/100\n",
      "97/97 [==============================] - 0s - loss: 56.6370      \n",
      "Epoch 2/100\n",
      "97/97 [==============================] - 0s - loss: 13.8400    \n",
      "Epoch 3/100\n",
      "97/97 [==============================] - 0s - loss: 12.6108     \n",
      "Epoch 4/100\n",
      "97/97 [==============================] - 0s - loss: 14.9051    \n",
      "Epoch 5/100\n",
      "97/97 [==============================] - 0s - loss: 12.2583     \n",
      "Epoch 6/100\n",
      "97/97 [==============================] - 0s - loss: 12.5513     \n",
      "Epoch 7/100\n",
      "97/97 [==============================] - 0s - loss: 46.0038      \n",
      "Epoch 8/100\n",
      "97/97 [==============================] - 0s - loss: 14.3332     \n",
      "Epoch 9/100\n",
      "97/97 [==============================] - 0s - loss: 13.4788     \n",
      "Epoch 10/100\n",
      "97/97 [==============================] - 0s - loss: 11.7004     \n",
      "Epoch 11/100\n",
      "97/97 [==============================] - 0s - loss: 11.5427     \n",
      "Epoch 12/100\n",
      "97/97 [==============================] - 0s - loss: 11.4352    \n",
      "Epoch 13/100\n",
      "97/97 [==============================] - 0s - loss: 11.8407     \n",
      "Epoch 14/100\n",
      "97/97 [==============================] - 0s - loss: 11.5793     \n",
      "Epoch 15/100\n",
      "97/97 [==============================] - 0s - loss: 11.3820     \n",
      "Epoch 16/100\n",
      "97/97 [==============================] - 0s - loss: 11.3595    \n",
      "Epoch 17/100\n",
      "97/97 [==============================] - 0s - loss: 11.3719     \n",
      "Epoch 18/100\n",
      "97/97 [==============================] - 0s - loss: 11.4903     \n",
      "Epoch 19/100\n",
      "97/97 [==============================] - 0s - loss: 11.3142    \n",
      "Epoch 20/100\n",
      "97/97 [==============================] - 0s - loss: 11.7061    \n",
      "Epoch 21/100\n",
      "97/97 [==============================] - 0s - loss: 13.5190     \n",
      "Epoch 22/100\n",
      "97/97 [==============================] - 0s - loss: 11.3929    \n",
      "Epoch 23/100\n",
      "97/97 [==============================] - 0s - loss: 11.2135     \n",
      "Epoch 24/100\n",
      "97/97 [==============================] - 0s - loss: 11.2397     \n",
      "Epoch 25/100\n",
      "97/97 [==============================] - 0s - loss: 20.5639     \n",
      "Epoch 26/100\n",
      "97/97 [==============================] - 0s - loss: 11.9723     \n",
      "Epoch 27/100\n",
      "97/97 [==============================] - 0s - loss: 11.2388     \n",
      "Epoch 28/100\n",
      "97/97 [==============================] - 0s - loss: 11.7667     \n",
      "Epoch 29/100\n",
      "97/97 [==============================] - 0s - loss: 10.9495    \n",
      "Epoch 30/100\n",
      "97/97 [==============================] - 0s - loss: 11.1140    \n",
      "Epoch 31/100\n",
      "97/97 [==============================] - 0s - loss: 10.8256     \n",
      "Epoch 32/100\n",
      "97/97 [==============================] - 0s - loss: 10.9410    \n",
      "Epoch 33/100\n",
      "97/97 [==============================] - 0s - loss: 11.2425     \n",
      "Epoch 34/100\n",
      "97/97 [==============================] - 0s - loss: 13.9514     \n",
      "Epoch 35/100\n",
      "97/97 [==============================] - 0s - loss: 11.2217     \n",
      "Epoch 36/100\n",
      "97/97 [==============================] - 0s - loss: 10.9039    \n",
      "Epoch 37/100\n",
      "97/97 [==============================] - 0s - loss: 11.4432    \n",
      "Epoch 38/100\n",
      "97/97 [==============================] - 0s - loss: 10.5639    \n",
      "Epoch 39/100\n",
      "97/97 [==============================] - 0s - loss: 10.5911    \n",
      "Epoch 40/100\n",
      "97/97 [==============================] - 0s - loss: 10.6588    \n",
      "Epoch 41/100\n",
      "97/97 [==============================] - 0s - loss: 10.8800    \n",
      "Epoch 42/100\n",
      "97/97 [==============================] - 0s - loss: 12.2548     \n",
      "Epoch 43/100\n",
      "97/97 [==============================] - 0s - loss: 10.8330    \n",
      "Epoch 44/100\n",
      "97/97 [==============================] - 0s - loss: 10.5356     \n",
      "Epoch 45/100\n",
      "97/97 [==============================] - 0s - loss: 10.4823     \n",
      "Epoch 46/100\n",
      "97/97 [==============================] - 0s - loss: 10.5560    \n",
      "Epoch 47/100\n",
      "97/97 [==============================] - 0s - loss: 12.9544     \n",
      "Epoch 48/100\n",
      "97/97 [==============================] - 0s - loss: 10.5828     \n",
      "Epoch 49/100\n",
      "97/97 [==============================] - 0s - loss: 10.5866    \n",
      "Epoch 50/100\n",
      "97/97 [==============================] - 0s - loss: 10.7528     \n",
      "Epoch 51/100\n",
      "97/97 [==============================] - 0s - loss: 11.2798     \n",
      "Epoch 52/100\n",
      "97/97 [==============================] - 0s - loss: 19.6178     \n",
      "Epoch 53/100\n",
      "97/97 [==============================] - 0s - loss: 10.7397    \n",
      "Epoch 54/100\n",
      "97/97 [==============================] - 0s - loss: 10.3021    \n",
      "Epoch 55/100\n",
      "97/97 [==============================] - 0s - loss: 10.2266    \n",
      "Epoch 56/100\n",
      "97/97 [==============================] - 0s - loss: 10.2070    \n",
      "Epoch 57/100\n",
      "97/97 [==============================] - 0s - loss: 10.5157     \n",
      "Epoch 58/100\n",
      "97/97 [==============================] - 0s - loss: 10.2979    \n",
      "Epoch 59/100\n",
      "97/97 [==============================] - 0s - loss: 10.4330    \n",
      "Epoch 60/100\n",
      "97/97 [==============================] - 0s - loss: 10.0819    \n",
      "Epoch 61/100\n",
      "97/97 [==============================] - 0s - loss: 10.3886    \n",
      "Epoch 62/100\n",
      "97/97 [==============================] - 0s - loss: 10.6535     \n",
      "Epoch 63/100\n",
      "97/97 [==============================] - 0s - loss: 10.5833     \n",
      "Epoch 64/100\n",
      "97/97 [==============================] - 0s - loss: 10.6989     \n",
      "Epoch 65/100\n",
      "97/97 [==============================] - 0s - loss: 10.0118    \n",
      "Epoch 66/100\n",
      "97/97 [==============================] - 0s - loss: 10.0439    \n",
      "Epoch 67/100\n",
      "97/97 [==============================] - 0s - loss: 10.0673    \n",
      "Epoch 68/100\n",
      "97/97 [==============================] - 0s - loss: 26.5480     \n",
      "Epoch 69/100\n",
      "97/97 [==============================] - 0s - loss: 10.0932     \n",
      "Epoch 70/100\n",
      "97/97 [==============================] - 0s - loss: 9.8151     \n",
      "Epoch 71/100\n",
      "97/97 [==============================] - 0s - loss: 12.6131     \n",
      "Epoch 72/100\n",
      "97/97 [==============================] - 0s - loss: 9.9315     \n",
      "Epoch 73/100\n",
      "97/97 [==============================] - 0s - loss: 11.2412     \n",
      "Epoch 74/100\n",
      "97/97 [==============================] - 0s - loss: 10.8728     \n",
      "Epoch 75/100\n",
      "97/97 [==============================] - 0s - loss: 9.8415     \n",
      "Epoch 76/100\n",
      "97/97 [==============================] - 0s - loss: 10.3174     \n",
      "Epoch 77/100\n",
      "97/97 [==============================] - 0s - loss: 9.9374     \n",
      "Epoch 78/100\n",
      "97/97 [==============================] - 0s - loss: 10.1484    \n",
      "Epoch 79/100\n",
      "97/97 [==============================] - 0s - loss: 9.6974      \n",
      "Epoch 80/100\n",
      "97/97 [==============================] - 0s - loss: 9.8371     \n",
      "Epoch 81/100\n",
      "97/97 [==============================] - 0s - loss: 9.8187      \n",
      "Epoch 82/100\n",
      "97/97 [==============================] - 0s - loss: 9.6530      \n",
      "Epoch 83/100\n",
      "97/97 [==============================] - 0s - loss: 9.7174      \n",
      "Epoch 84/100\n",
      "97/97 [==============================] - 0s - loss: 13.2513     \n",
      "Epoch 85/100\n",
      "97/97 [==============================] - 0s - loss: 9.8050     \n",
      "Epoch 86/100\n",
      "97/97 [==============================] - 0s - loss: 9.9191      \n",
      "Epoch 87/100\n",
      "97/97 [==============================] - 0s - loss: 9.5899     \n",
      "Epoch 88/100\n",
      "97/97 [==============================] - 0s - loss: 9.6799     \n",
      "Epoch 89/100\n",
      "97/97 [==============================] - 0s - loss: 11.8214     \n",
      "Epoch 90/100\n",
      "97/97 [==============================] - 0s - loss: 10.1125     \n",
      "Epoch 91/100\n",
      "97/97 [==============================] - 0s - loss: 9.5599      \n",
      "Epoch 92/100\n",
      "97/97 [==============================] - 0s - loss: 9.5901      \n",
      "Epoch 93/100\n",
      "97/97 [==============================] - 0s - loss: 22.7746     \n",
      "Epoch 94/100\n",
      "97/97 [==============================] - 0s - loss: 9.7903      \n",
      "Epoch 95/100\n",
      "97/97 [==============================] - 0s - loss: 9.5536     \n",
      "Epoch 96/100\n",
      "97/97 [==============================] - 0s - loss: 10.2473    \n",
      "Epoch 97/100\n",
      "97/97 [==============================] - 0s - loss: 9.5337      \n",
      "Epoch 98/100\n",
      "97/97 [==============================] - 0s - loss: 9.4728      \n",
      "Epoch 99/100\n",
      "97/97 [==============================] - 0s - loss: 9.5786     \n",
      "Epoch 100/100\n",
      "97/97 [==============================] - 0s - loss: 9.6576      \n"
     ]
    },
    {
     "data": {
      "text/plain": [
       "<keras.callbacks.History at 0x114619198>"
      ]
     },
     "execution_count": 225,
     "metadata": {},
     "output_type": "execute_result"
    }
   ],
   "source": [
    "prices.fit(X.as_matrix(),y, nb_epoch=100)"
   ]
  },
  {
   "cell_type": "code",
   "execution_count": 226,
   "metadata": {
    "collapsed": false
   },
   "outputs": [
    {
     "data": {
      "text/plain": [
       "[<matplotlib.lines.Line2D at 0x114633550>]"
      ]
     },
     "execution_count": 226,
     "metadata": {},
     "output_type": "execute_result"
    },
    {
     "data": {
      "image/png": "[encoded data removed]",
      "text/plain": [
       "<matplotlib.figure.Figure at 0x1146195c0>"
      ]
     },
     "metadata": {},
     "output_type": "display_data"
    }
   ],
   "source": [
    "pred  = np.arange(X.X.min(), X.X.max()) \n",
    "ypred = prices.predict(np.stack((pred, np.ones(len(pred)))).transpose())\n",
    "plot = plt.scatter(data.X,data.y)\n",
    "plt.plot(pred,ypred,'r')"
   ]
  },
  {
   "cell_type": "code",
   "execution_count": 190,
   "metadata": {
    "collapsed": false
   },
   "outputs": [
    {
     "data": {
      "text/plain": [
       "array([[  5.0269,   1.    ],\n",
       "       [  6.0269,   1.    ],\n",
       "       [  7.0269,   1.    ],\n",
       "       [  8.0269,   1.    ],\n",
       "       [  9.0269,   1.    ],\n",
       "       [ 10.0269,   1.    ],\n",
       "       [ 11.0269,   1.    ],\n",
       "       [ 12.0269,   1.    ],\n",
       "       [ 13.0269,   1.    ],\n",
       "       [ 14.0269,   1.    ],\n",
       "       [ 15.0269,   1.    ],\n",
       "       [ 16.0269,   1.    ],\n",
       "       [ 17.0269,   1.    ],\n",
       "       [ 18.0269,   1.    ],\n",
       "       [ 19.0269,   1.    ],\n",
       "       [ 20.0269,   1.    ],\n",
       "       [ 21.0269,   1.    ],\n",
       "       [ 22.0269,   1.    ]])"
      ]
     },
     "execution_count": 190,
     "metadata": {},
     "output_type": "execute_result"
    }
   ],
   "source": [
    "np.stack((pred, np.ones(len(pred)))).transpose()"
   ]
  },
  {
   "cell_type": "code",
   "execution_count": null,
   "metadata": {
    "collapsed": true
   },
   "outputs": [],
   "source": []
  }
 ],
 "metadata": {
  "kernelspec": {
   "display_name": "Python (ml-software)",
   "language": "python",
   "name": "ml-software"
  },
  "language_info": {
   "codemirror_mode": {
    "name": "ipython",
    "version": 3
   },
   "file_extension": ".py",
   "mimetype": "text/x-python",
   "name": "python",
   "nbconvert_exporter": "python",
   "pygments_lexer": "ipython3",
   "version": "3.5.1"
  }
 },
 "nbformat": 4,
 "nbformat_minor": 0
}
