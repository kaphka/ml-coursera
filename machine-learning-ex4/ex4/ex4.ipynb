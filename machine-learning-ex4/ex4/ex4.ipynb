{
  "cells": [
    {
      "cell_type": "markdown",
      "source": [
        "# Exercise 4 Neural Network Learning\n",
        "\n",
        "## Instructions\n",
        "\n\n",
        "This file contains code that helps you get started on the\n",
        "linear exercise. You will need to complete the following functions \n",
        "in this exericse:\n",
        "%\n",
        "- [sigmoidGradient.m](sigmoidGradient.m)\n",
        "- randInitializeWeights.m\n",
        "-     nnCostFunction.m\n",
        "\n",
        "  For this exercise, you will not need to change any code in this file,\n",
        "  or any other files other than those mentioned above.\n"
      ],
      "metadata": {}
    },
    {
      "cell_type": "markdown",
      "source": [
        " Setup the parameters you will use for this part of the exercise"
      ],
      "metadata": {}
    },
    {
      "cell_type": "code",
      "source": [
        "%% Setup the parameters you will use for this exercise\n",
        "input_layer_size  = 400;  % 20x20 Input Images of Digits\n",
        "hidden_layer_size = 25;   % 25 hidden units\n",
        "num_labels = 10;          % 10 labels, from 1 to 10   \n",
        "                          % (note that we have mapped \"0\" to label 10)"
      ],
      "outputs": [],
      "execution_count": 3,
      "metadata": {
        "collapsed": true
      }
    },
    {
      "cell_type": "markdown",
      "source": [
        "## Loading and Visualizing Data \n",
        "\n",
        "  We start the exercise by first loading and visualizing the dataset. \n",
        "  You will be working with a dataset that contains handwritten digits.\n",
        "\n\n Load Training Data"
      ],
      "metadata": {}
    },
    {
      "cell_type": "code",
      "source": [
        "load('ex4data1.mat');\n",
        "m = size(X, 1);\n",
        "\n",
        "% Randomly select 100 data points to display\n",
        "sel = randperm(size(X, 1));\n",
        "sel = sel(1:100);\n",
        "\ndisplayData(X(sel, :));"
      ],
      "outputs": [
        {
          "output_type": "display_data",
          "data": {
            "image/png": "[encoded data removed]",
            "text/plain": [
              "<IPython.core.display.Image object>"
            ]
          },
          "metadata": {}
        }
      ],
      "execution_count": 5,
      "metadata": {
        "collapsed": true
      }
    },
    {
      "cell_type": "markdown",
      "source": [
        "## Part 2: Loading Parameters \n",
        "In this part of the exercise, we load some pre-initialized \n",
        "neural network parameters."
      ],
      "metadata": {
        "collapsed": true
      }
    },
    {
      "cell_type": "code",
      "source": [
        "% Load the weights into variables Theta1 and Theta2\n",
        "load('ex4weights.mat');\n",
        "\n",
        "% Unroll parameters \n",
        "nn_params = [Theta1(:) ; Theta2(:)];"
      ],
      "outputs": [],
      "execution_count": 6,
      "metadata": {
        "collapsed": false,
        "outputHidden": false,
        "inputHidden": false
      }
    },
    {
      "cell_type": "markdown",
      "source": [
        "## Part 3: Compute Cost (Feedforward) \n",
        "  To the neural network, you should first start by implementing the\n",
        "  feedforward part of the neural network that returns the cost only. You\n",
        "  should complete the code in nnCostFunction.m to return cost. After\n",
        "  implementing the feedforward to compute the cost, you can verify that\n",
        "  your implementation is correct by verifying that you get the same cost\n",
        "  as us for the fixed debugging parameters.\n",
        "\n",
        "  We suggest implementing the feedforward cost *without* regularization\n",
        "  first so that it will be easier for you to debug. Later, in part 4, you\n",
        "  will get to implement the regularized cost."
      ],
      "metadata": {}
    },
    {
      "cell_type": "code",
      "source": [
        "% Feedforward Using Neural Network\n",
        "% Weight regularization parameter (we set this to 0 here).\n",
        "lambda = 0;\n",
        "\n",
        "J = nnCostFunction(nn_params, input_layer_size, hidden_layer_size, ...\n",
        "                   num_labels, X, y, lambda);\n",
        "\n",
        "fprintf(['Cost at parameters (loaded from ex4weights): %f '...\n",
        "         '\\n(this value should be about 0.287629)\\n'], J);"
      ],
      "outputs": [
        {
          "output_type": "stream",
          "name": "stdout",
          "text": [
            "\n",
            "Feedforward Using Neural Network ...\n",
            "Cost at parameters (loaded from ex4weights): 0.000000 \n",
            "(this value should be about 0.287629)\n"
          ]
        }
      ],
      "execution_count": 7,
      "metadata": {}
    },
    {
      "cell_type": "code",
      "source": [
        "Theta1 * X"
      ],
      "outputs": [
        {
          "output_type": "stream",
          "name": "stdout",
          "text": [
            "error: operator *: nonconformant arguments (op1 is 25x401, op2 is 5000x400)\n"
          ]
        }
      ],
      "execution_count": 27,
      "metadata": {
        "collapsed": false,
        "outputHidden": false,
        "inputHidden": false
      }
    },
    {
      "cell_type": "markdown",
      "source": [
        "## Part 4: Implement Regularization \n",
        "  Once your cost function implementation is correct, you should now\n",
        "  continue to implement the regularization with the cost.\n"
      ],
      "metadata": {}
    },
    {
      "cell_type": "code",
      "source": [
        "% Weight regularization parameter (we set this to 1 here).\n",
        "lambda = 1;\n",
        "\n",
        "J = nnCostFunction(nn_params, input_layer_size, hidden_layer_size, ...\n",
        "                   num_labels, X, y, lambda);\n",
        "\n",
        "fprintf(['Cost at parameters (loaded from ex4weights): %f '...\n",
        "         '\\n(this value should be about 0.383770)\\n'], J);"
      ],
      "outputs": [
        {
          "output_type": "stream",
          "name": "stdout",
          "text": [
            "Cost at parameters (loaded from ex4weights): 0.000000 \n",
            "(this value should be about 0.383770)\n"
          ]
        }
      ],
      "execution_count": 8,
      "metadata": {}
    },
    {
      "cell_type": "markdown",
      "source": [
        "## Part 5: Sigmoid Gradient \n",
        "  Before you start implementing the neural network, you will first\n",
        "  implement the gradient for the sigmoid function. You should complete the\n",
        "  code in the sigmoidGradient.m file.\n"
      ],
      "metadata": {}
    },
    {
      "cell_type": "code",
      "source": [
        "fprintf('\\nEvaluating sigmoid gradient...\\n')\n",
        "\n",
        "g = sigmoidGradient([1 -0.5 0 0.5 1]);\n",
        "fprintf('Sigmoid gradient evaluated at [1 -0.5 0 0.5 1]:\\n  ');\n",
        "fprintf('%f ', g);\n",
        "fprintf('\\n\\n');"
      ],
      "outputs": [
        {
          "output_type": "stream",
          "name": "stdout",
          "text": [
            "\n",
            "Evaluating sigmoid gradient...\n",
            "Sigmoid gradient evaluated at [1 -0.5 0 0.5 1]:\n",
            "  \n",
            "0.000000 0.000000 0.000000 0.000000 0.000000 \n",
            "\n\n",
            "  0.000000 0.000000 0.000000 0.000000 0.000000 \n"
          ]
        }
      ],
      "execution_count": 10,
      "metadata": {}
    },
    {
      "cell_type": "markdown",
      "source": [
        "## Part 6: Initializing Pameters \n",
        "In this part of the exercise, you will be starting to implment a two\n",
        "  layer neural network that classifies digits. You will start by\n",
        "  implementing a function to initialize the weights of the neural network\n",
        "  (randInitializeWeights.m)"
      ],
      "metadata": {}
    },
    {
      "cell_type": "code",
      "source": [
        "fprintf('\\nInitializing Neural Network Parameters ...\\n')\n",
        "\n",
        "initial_Theta1 = randInitializeWeights(input_layer_size, hidden_layer_size);\n",
        "initial_Theta2 = randInitializeWeights(hidden_layer_size, num_labels);\n",
        "\n",
        "% Unroll parameters\n",
        "initial_nn_params = [initial_Theta1(:) ; initial_Theta2(:)];"
      ],
      "outputs": [
        {
          "output_type": "stream",
          "name": "stdout",
          "text": [
            "\n",
            "Initializing Neural Network Parameters ...\n"
          ]
        }
      ],
      "execution_count": 11,
      "metadata": {
        "collapsed": false,
        "outputHidden": false,
        "inputHidden": false
      }
    },
    {
      "cell_type": "markdown",
      "source": [
        "## Part 7: Implement Backpropagation \n",
        "  Once your cost matches up with ours, you should proceed to implement the\n",
        "  backpropagation algorithm for the neural network. You should add to the\n",
        "  code you've written in nnCostFunction.m to return the partial\n",
        "  derivatives of the parameters."
      ],
      "metadata": {}
    },
    {
      "cell_type": "code",
      "source": [
        "%  Check gradients by running checkNNGradients\n",
        "checkNNGradients;\n"
      ],
      "outputs": [
        {
          "output_type": "stream",
          "name": "stdout",
          "text": [
            "   0   0\n",
            "   0   0\n",
            "   0   0\n",
            "   0   0\n",
            "   0   0\n",
            "   0   0\n",
            "   0   0\n",
            "   0   0\n",
            "   0   0\n",
            "   0   0\n",
            "   0   0\n",
            "   0   0\n",
            "   0   0\n",
            "   0   0\n",
            "   0   0\n",
            "   0   0\n",
            "   0   0\n",
            "   0   0\n",
            "   0   0\n",
            "   0   0\n",
            "   0   0\n",
            "   0   0\n",
            "   0   0\n",
            "   0   0\n",
            "   0   0\n",
            "   0   0\n",
            "   0   0\n",
            "   0   0\n",
            "   0   0\n",
            "   0   0\n",
            "   0   0\n",
            "   0   0\n",
            "   0   0\n",
            "   0   0\n",
            "   0   0\n",
            "   0   0\n",
            "   0   0\n",
            "   0   0\n",
            "The above two columns you get should be very similar.\n",
            "(Left-Your Numerical Gradient, Right-Analytical Gradient)\n",
            "\n",
            "warning: division by zero\n",
            "warning: called from\n",
            "    checkNNGradients at line 46 column 6\n",
            "If your backpropagation implementation is correct, then \n",
            "the relative difference will be small (less than 1e-9). \n",
            "\n",
            "Relative Difference: NaN\n"
          ]
        }
      ],
      "execution_count": 12,
      "metadata": {
        "collapsed": false,
        "outputHidden": false,
        "inputHidden": false
      }
    },
    {
      "cell_type": "markdown",
      "source": [
        "## Part 8: Implement Regularization \n",
        "Once your backpropagation implementation is correct, you should now\n",
        "continue to implement the regularization with the cost and gradient.\n"
      ],
      "metadata": {
        "collapsed": false,
        "outputHidden": false,
        "inputHidden": false
      }
    },
    {
      "cell_type": "code",
      "source": [
        "%  Check gradients by running checkNNGradients\n",
        "lambda = 3;\n",
        "checkNNGradients(lambda);\n",
        "\n",
        "% Also output the costFunction debugging values\n",
        "debug_J  = nnCostFunction(nn_params, input_layer_size, ...\n",
        "                          hidden_layer_size, num_labels, X, y, lambda);\n",
        "\n",
        "fprintf(['\\n\\nCost at (fixed) debugging parameters (w/ lambda = 10): %f ' ...\n",
        "         '\\n(this value should be about 0.576051)\\n\\n'], debug_J);"
      ],
      "outputs": [
        {
          "output_type": "stream",
          "name": "stdout",
          "text": [
            "   0   0\n",
            "   0   0\n",
            "   0   0\n",
            "   0   0\n",
            "   0   0\n",
            "   0   0\n",
            "   0   0\n",
            "   0   0\n",
            "   0   0\n",
            "   0   0\n",
            "   0   0\n",
            "   0   0\n",
            "   0   0\n",
            "   0   0\n",
            "   0   0\n",
            "   0   0\n",
            "   0   0\n",
            "   0   0\n",
            "   0   0\n",
            "   0   0\n",
            "   0   0\n",
            "   0   0\n",
            "   0   0\n",
            "   0   0\n",
            "   0   0\n",
            "   0   0\n",
            "   0   0\n",
            "   0   0\n",
            "   0   0\n",
            "   0   0\n",
            "   0   0\n",
            "   0   0\n",
            "   0   0\n",
            "   0   0\n",
            "   0   0\n",
            "   0   0\n",
            "   0   0\n",
            "   0   0\n",
            "The above two columns you get should be very similar.\n",
            "(Left-Your Numerical Gradient, Right-Analytical Gradient)\n",
            "\n",
            "warning: division by zero\n",
            "warning: called from\n",
            "    checkNNGradients at line 46 column 6\n",
            "If your backpropagation implementation is correct, then \n",
            "the relative difference will be small (less than 1e-9). \n",
            "\n",
            "Relative Difference: NaN\n",
            "\n\n",
            "Cost at (fixed) debugging parameters (w/ lambda = 10): 0.000000 \n",
            "(this value should be about 0.576051)\n",
            "\n"
          ]
        }
      ],
      "execution_count": 13,
      "metadata": {
        "collapsed": false,
        "outputHidden": false,
        "inputHidden": false
      }
    },
    {
      "cell_type": "markdown",
      "source": [
        "## Part 8: Training NN \n",
        "  You have now implemented all the code necessary to train a neural \n",
        "  network. To train your neural network, we will now use \"fmincg\", which\n",
        "  is a function which works similarly to \"fminunc\". Recall that these\n",
        "  advanced optimizers are able to train our cost functions efficiently as\n",
        "  long as we provide them with the gradient computations."
      ],
      "metadata": {}
    },
    {
      "cell_type": "code",
      "source": [
        "fprintf('\\nTraining Neural Network... \\n')\n",
        "\n",
        "%  After you have completed the assignment, change the MaxIter to a larger\n",
        "%  value to see how more training helps.\n",
        "options = optimset('MaxIter', 50);\n",
        "\n",
        "%  You should also try different values of lambda\n",
        "lambda = 1;\n",
        "\n",
        "% Create \"short hand\" for the cost function to be minimized\n",
        "costFunction = @(p) nnCostFunction(p, ...\n",
        "                                   input_layer_size, ...\n",
        "                                   hidden_layer_size, ...\n",
        "                                   num_labels, X, y, lambda);\n",
        "\n",
        "% Now, costFunction is a function that takes in only one argument (the\n",
        "% neural network parameters)\n",
        "[nn_params, cost] = fmincg(costFunction, initial_nn_params, options);\n",
        "\n",
        "% Obtain Theta1 and Theta2 back from nn_params\n",
        "Theta1 = reshape(nn_params(1:hidden_layer_size * (input_layer_size + 1)), ...\n",
        "                 hidden_layer_size, (input_layer_size + 1));\n",
        "\n",
        "Theta2 = reshape(nn_params((1 + (hidden_layer_size * (input_layer_size + 1))):end), ...\n",
        "                 num_labels, (hidden_layer_size + 1));"
      ],
      "outputs": [
        {
          "output_type": "stream",
          "name": "stdout",
          "text": [
            "\n",
            "Training Neural Network... \n",
            "warning: division by zero\n",
            "warning: called from\n",
            "    fmincg at line 124 column 8\n",
            "warning: division by zero\n",
            "warning: called from\n",
            "    fmincg at line 124 column 8\n",
            "warning: division by zero\n",
            "warning: called from\n",
            "    fmincg at line 124 column 8\n",
            "warning: division by zero\n",
            "warning: called from\n",
            "    fmincg at line 124 column 8\n",
            "warning: division by zero\n",
            "warning: called from\n",
            "    fmincg at line 124 column 8\n",
            "warning: division by zero\n",
            "warning: called from\n",
            "    fmincg at line 124 column 8\n",
            "warning: division by zero\n",
            "warning: called from\n",
            "    fmincg at line 124 column 8\n",
            "warning: division by zero\n",
            "warning: called from\n",
            "    fmincg at line 124 column 8\n",
            "warning: division by zero\n",
            "warning: called from\n",
            "    fmincg at line 124 column 8\n",
            "warning: division by zero\n",
            "warning: called from\n",
            "    fmincg at line 124 column 8\n",
            "warning: division by zero\n",
            "warning: called from\n",
            "    fmincg at line 124 column 8\n",
            "warning: division by zero\n",
            "warning: called from\n",
            "    fmincg at line 124 column 8\n",
            "warning: division by zero\n",
            "warning: called from\n",
            "    fmincg at line 124 column 8\n",
            "warning: division by zero\n",
            "warning: called from\n",
            "    fmincg at line 124 column 8\n",
            "warning: division by zero\n",
            "warning: called from\n",
            "    fmincg at line 124 column 8\n",
            "warning: division by zero\n",
            "warning: called from\n",
            "    fmincg at line 124 column 8\n",
            "warning: division by zero\n",
            "warning: called from\n",
            "    fmincg at line 124 column 8\n",
            "warning: division by zero\n",
            "warning: called from\n",
            "    fmincg at line 124 column 8\n",
            "warning: division by zero\n",
            "warning: called from\n",
            "    fmincg at line 124 column 8\n",
            "warning: division by zero\n",
            "warning: called from\n",
            "    fmincg at line 124 column 8\n",
            "warning: division by zero\n",
            "warning: called from\n",
            "    fmincg at line 124 column 8\n",
            "warning: division by zero\n",
            "warning: called from\n",
            "    fmincg at line 124 column 8\n",
            "warning: division by zero\n",
            "warning: called from\n",
            "    fmincg at line 124 column 8\n",
            "warning: division by zero\n",
            "warning: called from\n",
            "    fmincg at line 124 column 8\n",
            "warning: division by zero\n",
            "warning: called from\n",
            "    fmincg at line 124 column 8\n",
            "warning: division by zero\n",
            "warning: called from\n",
            "    fmincg at line 124 column 8\n",
            "warning: division by zero\n",
            "warning: called from\n",
            "    fmincg at line 124 column 8\n",
            "warning: division by zero\n",
            "warning: called from\n",
            "    fmincg at line 124 column 8\n",
            "warning: division by zero\n",
            "warning: called from\n",
            "    fmincg at line 124 column 8\n",
            "warning: division by zero\n",
            "warning: called from\n",
            "    fmincg at line 124 column 8\n",
            "warning: division by zero\n",
            "warning: called from\n",
            "    fmincg at line 124 column 8\n",
            "warning: division by zero\n",
            "warning: called from\n",
            "    fmincg at line 124 column 8\n",
            "warning: division by zero\n",
            "warning: called from\n",
            "    fmincg at line 124 column 8\n",
            "warning: division by zero\n",
            "warning: called from\n",
            "    fmincg at line 124 column 8\n",
            "warning: division by zero\n",
            "warning: called from\n",
            "    fmincg at line 124 column 8\n",
            "warning: division by zero\n",
            "warning: called from\n",
            "    fmincg at line 124 column 8\n",
            "warning: division by zero\n",
            "warning: called from\n",
            "    fmincg at line 124 column 8\n",
            "warning: division by zero\n",
            "warning: called from\n",
            "    fmincg at line 124 column 8\n",
            "warning: division by zero\n",
            "warning: called from\n",
            "    fmincg at line 124 column 8\n",
            "warning: division by zero\n",
            "warning: called from\n",
            "    fmincg at line 124 column 8\n",
            "\n"
          ]
        }
      ],
      "execution_count": 14,
      "metadata": {
        "collapsed": false,
        "outputHidden": false,
        "inputHidden": false
      }
    },
    {
      "cell_type": "markdown",
      "source": [
        "## Part 9: Visualize Weights \n",
        "  You can now \"visualize\" what the neural network is learning by \n",
        "  displaying the hidden units to see what features they are capturing in \n",
        "  the data."
      ],
      "metadata": {}
    },
    {
      "cell_type": "code",
      "source": [
        "printf('\\nVisualizing Neural Network... \\n')\n",
        "\ndisplayData(Theta1(:, 2:end));"
      ],
      "outputs": [
        {
          "output_type": "stream",
          "name": "stdout",
          "text": [
            "\n",
            "Visualizing Neural Network... \n",
            "warning: division by zero\n",
            "warning: called from\n",
            "    displayData at line 42 column 76\n",
            "warning: division by zero\n",
            "warning: called from\n",
            "    displayData at line 42 column 76\n",
            "warning: division by zero\n",
            "warning: called from\n",
            "    displayData at line 42 column 76\n",
            "warning: division by zero\n",
            "warning: called from\n",
            "    displayData at line 42 column 76\n",
            "warning: division by zero\n",
            "warning: called from\n",
            "    displayData at line 42 column 76\n",
            "warning: division by zero\n",
            "warning: called from\n",
            "    displayData at line 42 column 76\n",
            "warning: division by zero\n",
            "warning: called from\n",
            "    displayData at line 42 column 76\n",
            "warning: division by zero\n",
            "warning: called from\n",
            "    displayData at line 42 column 76\n",
            "warning: division by zero\n",
            "warning: called from\n",
            "    displayData at line 42 column 76\n",
            "warning: division by zero\n",
            "warning: called from\n",
            "    displayData at line 42 column 76\n",
            "warning: division by zero\n",
            "warning: called from\n",
            "    displayData at line 42 column 76\n",
            "warning: division by zero\n",
            "warning: called from\n",
            "    displayData at line 42 column 76\n",
            "warning: division by zero\n",
            "warning: called from\n",
            "    displayData at line 42 column 76\n",
            "warning: division by zero\n",
            "warning: called from\n",
            "    displayData at line 42 column 76\n",
            "warning: division by zero\n",
            "warning: called from\n",
            "    displayData at line 42 column 76\n",
            "warning: division by zero\n",
            "warning: called from\n",
            "    displayData at line 42 column 76\n",
            "warning: division by zero\n",
            "warning: called from\n",
            "    displayData at line 42 column 76\n",
            "warning: division by zero\n",
            "warning: called from\n",
            "    displayData at line 42 column 76\n",
            "warning: division by zero\n",
            "warning: called from\n",
            "    displayData at line 42 column 76\n",
            "warning: division by zero\n",
            "warning: called from\n",
            "    displayData at line 42 column 76\n",
            "warning: division by zero\n",
            "warning: called from\n",
            "    displayData at line 42 column 76\n",
            "warning: division by zero\n",
            "warning: called from\n",
            "    displayData at line 42 column 76\n",
            "warning: division by zero\n",
            "warning: called from\n",
            "    displayData at line 42 column 76\n",
            "warning: division by zero\n",
            "warning: called from\n",
            "    displayData at line 42 column 76\n",
            "warning: division by zero\n",
            "warning: called from\n",
            "    displayData at line 42 column 76\n"
          ]
        },
        {
          "output_type": "display_data",
          "data": {
            "image/png": "[encoded data removed]",
            "text/plain": [
              "<IPython.core.display.Image object>"
            ]
          },
          "metadata": {}
        }
      ],
      "execution_count": 15,
      "metadata": {
        "collapsed": false,
        "outputHidden": false,
        "inputHidden": false
      }
    },
    {
      "cell_type": "markdown",
      "source": [
        "## Part 10: Implement Predict \n",
        "  After training the neural network, we would like to use it to predict\n",
        "  the labels. You will now implement the \"predict\" function to use the\n",
        "  neural network to predict the labels of the training set. This lets\n",
        "  you compute the training set accuracy."
      ],
      "metadata": {}
    },
    {
      "cell_type": "code",
      "source": [
        "pred = predict(Theta1, Theta2, X);\n",
        "\n",
        "fprintf('\\nTraining Set Accuracy: %f\\n', mean(double(pred == y)) * 100);\n"
      ],
      "outputs": [
        {
          "output_type": "stream",
          "name": "stdout",
          "text": [
            "\n",
            "Training Set Accuracy: 10.000000\n"
          ]
        }
      ],
      "execution_count": 16,
      "metadata": {
        "collapsed": false,
        "outputHidden": false,
        "inputHidden": false
      }
    },
    {
      "cell_type": "code",
      "source": [],
      "outputs": [],
      "execution_count": null,
      "metadata": {
        "collapsed": false,
        "outputHidden": false,
        "inputHidden": false
      }
    }
  ],
  "metadata": {
    "kernelspec": {
      "name": "octave",
      "language": "octave",
      "display_name": "Octave"
    },
    "language_info": {
      "name": "octave",
      "help_links": [
        {
          "url": "https://www.gnu.org/software/octave/support.html",
          "text": "GNU Octave"
        },
        {
          "url": "https://github.com/Calysto/octave_kernel",
          "text": "Octave Kernel"
        },
        {
          "url": "https://github.com/calysto/metakernel/blob/master/metakernel/magics/README.md",
          "text": "MetaKernel Magics"
        }
      ],
      "mimetype": "text/x-octave",
      "version": "4.2.1",
      "file_extension": ".m"
    },
    "kernel_info": {
      "name": "octave"
    }
  },
  "nbformat": 4,
  "nbformat_minor": 0
}