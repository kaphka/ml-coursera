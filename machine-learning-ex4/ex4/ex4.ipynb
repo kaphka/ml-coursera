{
  "cells": [
    {
      "cell_type": "markdown",
      "source": [
        "# Exercise 4 Neural Network Learning\n",
        "\n",
        "## Instructions\n",
        "\n\n",
        "This file contains code that helps you get started on the\n",
        "linear exercise. You will need to complete the following functions \n",
        "in this exericse:\n",
        "%\n",
        "- [sigmoidGradient.m](sigmoidGradient.m)\n",
        "- randInitializeWeights.m\n",
        "-     nnCostFunction.m\n",
        "\n",
        "  For this exercise, you will not need to change any code in this file,\n",
        "  or any other files other than those mentioned above.\n"
      ],
      "metadata": {}
    },
    {
      "cell_type": "code",
      "source": [
        "## Initialization\n",
        "clear ; close all; clc"
      ],
      "outputs": [],
      "execution_count": 2,
      "metadata": {
        "collapsed": true
      }
    },
    {
      "cell_type": "markdown",
      "source": [
        "## Setup the parameters you will use for this part of the exercise"
      ],
      "metadata": {}
    },
    {
      "cell_type": "code",
      "source": [
        "input_layer_size  = 400;  % 20x20 Input Images of Digits\n",
        "num_labels = 10;          % 10 labels, from 1 to 10   \n",
        "                          % (note that we have mapped \"0\" to label 10)"
      ],
      "outputs": [],
      "execution_count": 4,
      "metadata": {
        "collapsed": true
      }
    },
    {
      "cell_type": "markdown",
      "source": [
        "## Part 1: Loading and Visualizing Data \n",
        "\n",
        "We start the exercise by first loading and visualizing the dataset. \n",
        "You will be working with a dataset that contains handwritten digits."
      ],
      "metadata": {}
    },
    {
      "cell_type": "code",
      "source": [
        "% Load Training Data\n",
        "fprintf('Loading and Visualizing Data ...\\n')\n",
        "\n",
        "load('ex3data1.mat'); % training data stored in arrays X, y\n",
        "m = size(X, 1);"
      ],
      "outputs": [
        {
          "output_type": "stream",
          "name": "stdout",
          "text": [
            "Loading and Visualizing Data ...\n",
            "error: load: unable to find file ex3data1.mat\n",
            "error: 'X' undefined near line 1 column 10\n"
          ]
        }
      ],
      "execution_count": 5,
      "metadata": {
        "collapsed": false
      }
    },
    {
      "cell_type": "code",
      "source": [
        "% Randomly select 100 data points to display\n",
        "rand_indices = randperm(m);\n",
        "sel = X(rand_indices(1:100), :);\n",
        "\ndisplayData(sel);"
      ],
      "outputs": [
        {
          "output_type": "display_data",
          "data": {
            "image/png": "[encoded data removed]",
            "text/plain": [
              "<IPython.core.display.Image object>"
            ]
          },
          "metadata": {}
        }
      ],
      "execution_count": 16,
      "metadata": {
        "collapsed": false
      }
    },
    {
      "cell_type": "markdown",
      "source": [
        "\n\n",
        "## Part 2: Vectorize Logistic Regression \n",
        "\n",
        "In this part of the exercise, you will reuse your logistic regression\n",
        "  code from the last exercise. You task here is to make sure that your\n",
        "  regularized logistic regression implementation is vectorized. After\n",
        "  that, you will implement one-vs-all classification for the handwritten\n",
        "  digit dataset.\n",
        "\n\n"
      ],
      "metadata": {}
    },
    {
      "cell_type": "code",
      "source": [
        "fprintf('\\nTraining One-vs-All Logistic Regression...\\n')\n",
        "\n",
        "lambda = 0.1;\n",
        "[all_theta] = oneVsAll(X, y, num_labels, lambda);"
      ],
      "outputs": [
        {
          "output_type": "stream",
          "name": "stdout",
          "text": [
            "\n",
            "Training One-vs-All Logistic Regression...\n",
            "Iteration    50 | Cost: 1.369292e-02\n",
            "Iteration    50 | Cost: 5.725231e-02\n",
            "Iteration    50 | Cost: 6.384780e-02\n",
            "Iteration    50 | Cost: 3.628377e-02\n",
            "Iteration    50 | Cost: 6.187287e-02\n",
            "Iteration    50 | Cost: 2.167807e-02\n",
            "Iteration    50 | Cost: 3.458310e-02\n",
            "Iteration    50 | Cost: 8.551314e-02\n",
            "Iteration    50 | Cost: 8.145378e-02\n",
            "Iteration    50 | Cost: 9.599378e-03\n"
          ]
        }
      ],
      "execution_count": 19,
      "metadata": {
        "collapsed": false
      }
    },
    {
      "cell_type": "markdown",
      "source": [
        "## Part 3: Predict for One-Vs-All \n",
        "After ..."
      ],
      "metadata": {}
    },
    {
      "cell_type": "code",
      "source": [
        "pred = predictOneVsAll(all_theta, X);\n",
        "fprintf('\\nTraining Set Accuracy: %f\\n', mean(double(pred == y)) * 100);"
      ],
      "outputs": [
        {
          "output_type": "stream",
          "name": "stdout",
          "text": [
            "\n",
            "Training Set Accuracy: 95.080000\n"
          ]
        }
      ],
      "execution_count": 20,
      "metadata": {
        "collapsed": false
      }
    },
    {
      "cell_type": "code",
      "source": [
        "submit()"
      ],
      "outputs": [
        {
          "output_type": "stream",
          "name": "stdout",
          "text": [
            "== Submitting solutions | Multi-class Classification and Neural Networks...\n",
            "Use token from last successful submission (jschmolling@googlemail.com)? (Y/n):n\n",
            "Login (email address):jschmolling@googlemail.com\n",
            "Token:xJaEbivK42d9j0KJ\n",
            "Iteration    27 | Cost: 3.391340e-01\n",
            "Iteration    23 | Cost: 6.631438e-02\n",
            "Iteration    31 | Cost: 1.002636e-01\n",
            "Iteration    20 | Cost: 3.598119e-01\n",
            "!! Submission failed: You used a token for \"Logistic Regression\" in \"Machine Learning\". Please use a token for the assignment you are submitting.\n"
          ]
        }
      ],
      "execution_count": 2,
      "metadata": {
        "collapsed": false
      }
    },
    {
      "cell_type": "code",
      "source": [],
      "outputs": [],
      "execution_count": null,
      "metadata": {
        "collapsed": true
      }
    }
  ],
  "metadata": {
    "kernelspec": {
      "name": "octave",
      "language": "octave",
      "display_name": "Octave"
    },
    "language_info": {
      "file_extension": ".m",
      "name": "octave",
      "version": "4.2.0",
      "mimetype": "text/x-octave",
      "help_links": [
        {
          "text": "GNU Octave",
          "url": "https://www.gnu.org/software/octave/support.html"
        },
        {
          "text": "Octave Kernel",
          "url": "https://github.com/Calysto/octave_kernel"
        },
        {
          "text": "MetaKernel Magics",
          "url": "https://github.com/calysto/metakernel/blob/master/metakernel/magics/README.md"
        }
      ]
    },
    "kernel_info": {
      "name": "octave"
    }
  },
  "nbformat": 4,
  "nbformat_minor": 0
}