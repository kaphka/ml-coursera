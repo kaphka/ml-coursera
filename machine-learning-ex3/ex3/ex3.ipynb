{
  "cells": [
    {
      "cell_type": "markdown",
      "source": [
        "# Exercise 3 | Part 1: One-vs-all\n",
        "\n",
        "## Instructions\n",
        "\n\n",
        "This file contains code that helps you get started on the\n",
        "linear exercise. You will need to complete the following functions \n",
        "in this exericse:\n",
        "\n\n",
        "-     lrCostFunction.m (logistic regression cost function)\n",
        "-     oneVsAll.m\n",
        "-     predictOneVsAll.m\n",
        "-     predict.m\n",
        "\n\n",
        "For this exercise, you will not need to change any code in this file,\n",
        "or any other files other than those mentioned above.\n",
        "\n"
      ],
      "metadata": {}
    },
    {
      "cell_type": "code",
      "source": [
        "## Initialization\n",
        "clear ; close all; clc"
      ],
      "outputs": [],
      "execution_count": null,
      "metadata": {
        "collapsed": true
      }
    },
    {
      "cell_type": "markdown",
      "source": [
        "## Setup the parameters you will use for this part of the exercise"
      ],
      "metadata": {}
    },
    {
      "cell_type": "code",
      "source": [
        "input_layer_size  = 400;  % 20x20 Input Images of Digits\n",
        "num_labels = 10;          % 10 labels, from 1 to 10   \n",
        "                          % (note that we have mapped \"0\" to label 10)"
      ],
      "outputs": [],
      "execution_count": 3,
      "metadata": {
        "collapsed": true
      }
    },
    {
      "cell_type": "markdown",
      "source": [
        "## Part 1: Loading and Visualizing Data \n",
        "\n",
        "We start the exercise by first loading and visualizing the dataset. \n",
        "You will be working with a dataset that contains handwritten digits."
      ],
      "metadata": {}
    },
    {
      "cell_type": "code",
      "source": [
        "% Load Training Data\n",
        "fprintf('Loading and Visualizing Data ...\\n')\n",
        "\n",
        "load('ex3data1.mat'); % training data stored in arrays X, y\n",
        "m = size(X, 1);"
      ],
      "outputs": [
        {
          "output_type": "stream",
          "name": "stdout",
          "text": [
            "Loading and Visualizing Data ...\n"
          ]
        }
      ],
      "execution_count": 4,
      "metadata": {
        "collapsed": false
      }
    },
    {
      "cell_type": "code",
      "source": [
        "% Randomly select 100 data points to display\n",
        "rand_indices = randperm(m);\n",
        "sel = X(rand_indices(1:100), :);\n",
        "\ndisplayData(sel);"
      ],
      "outputs": [
        {
          "output_type": "stream",
          "name": "stdout",
          "text": [
            "Fontconfig warning: line 146: blank doesn't take any effect anymore. please remove it from your fonts.conf\n"
          ]
        },
        {
          "output_type": "display_data",
          "data": {
            "image/png": "[encoded data removed]",
            "text/plain": [
              "<IPython.core.display.Image object>"
            ]
          },
          "metadata": {}
        }
      ],
      "execution_count": 5,
      "metadata": {
        "collapsed": false
      }
    },
    {
      "cell_type": "markdown",
      "source": [
        "\n\n",
        "## Part 2: Vectorize Logistic Regression \n",
        "\n",
        "In this part of the exercise, you will reuse your logistic regression\n",
        "  code from the last exercise. You task here is to make sure that your\n",
        "  regularized logistic regression implementation is vectorized. After\n",
        "  that, you will implement one-vs-all classification for the handwritten\n",
        "  digit dataset.\n",
        "\n\n"
      ],
      "metadata": {}
    },
    {
      "cell_type": "code",
      "source": [
        "fprintf('\\nTraining One-vs-All Logistic Regression...\\n')\n",
        "\n",
        "lambda = 0.1;\n",
        "[all_theta] = oneVsAll(X, y, num_labels, lambda);"
      ],
      "outputs": [
        {
          "output_type": "stream",
          "name": "stdout",
          "text": [
            "\n",
            "Training One-vs-All Logistic Regression...\n",
            "Iteration     1 | Cost: 2.802128e-01\rIteration     2 | Cost: 9.454389e-02\rIteration     3 | Cost: 5.704641e-02\rIteration     4 | Cost: 4.688190e-02\rIteration     5 | Cost: 3.759021e-02\rIteration     6 | Cost: 3.522008e-02\rIteration     7 | Cost: 3.234531e-02\rIteration     8 | Cost: 3.145034e-02\rIteration     9 | Cost: 3.008919e-02\rIteration    10 | Cost: 2.994639e-02\rIteration    11 | Cost: 2.678528e-02\rIteration    12 | Cost: 2.660323e-02\rIteration    13 | Cost: 2.493301e-02\rIteration    14 | Cost: 2.475211e-02\rIteration    15 | Cost: 2.318421e-02\rIteration    16 | Cost: 2.287050e-02\rIteration    17 | Cost: 2.160258e-02\rIteration    18 | Cost: 2.120371e-02\rIteration    19 | Cost: 2.064125e-02\rIteration    20 | Cost: 2.055695e-02\rIteration    21 | Cost: 2.045466e-02\rIteration    22 | Cost: 2.029177e-02\rIteration    23 | Cost: 2.005296e-02\rIteration    24 | Cost: 1.995949e-02\rIteration    25 | Cost: 1.982849e-02\rIteration    26 | Cost: 1.975129e-02\rIteration    27 | Cost: 1.897815e-02\rIteration    28 | Cost: 1.887065e-02\rIteration    29 | Cost: 1.869107e-02\rIteration    30 | Cost: 1.863223e-02\rIteration    31 | Cost: 1.837394e-02\rIteration    32 | Cost: 1.816951e-02\rIteration    33 | Cost: 1.781689e-02\rIteration    34 | Cost: 1.774665e-02\rIteration    35 | Cost: 1.767439e-02\rIteration    36 | Cost: 1.758469e-02\rIteration    37 | Cost: 1.756849e-02\rIteration    38 | Cost: 1.753348e-02\rIteration    39 | Cost: 1.727951e-02\rIteration    40 | Cost: 1.701846e-02\rIteration    41 | Cost: 1.621636e-02\rIteration    42 | Cost: 1.537218e-02\rIteration    43 | Cost: 1.488578e-02\rIteration    44 | Cost: 1.449532e-02\rIteration    45 | Cost: 1.436275e-02\rIteration    46 | Cost: 1.421904e-02\rIteration    47 | Cost: 1.392167e-02\rIteration    48 | Cost: 1.383483e-02\rIteration    49 | Cost: 1.372801e-02\r",
            "Iteration    50 | Cost: 1.369292e-02\r\n",
            "Iteration     1 | Cost: 3.448901e-01\rIteration     2 | Cost: 3.150694e-01\rIteration     3 | Cost: 1.846843e-01\rIteration     4 | Cost: 1.699017e-01\rIteration     5 | Cost: 1.529566e-01\rIteration     6 | Cost: 1.317377e-01\rIteration     7 | Cost: 1.171533e-01\rIteration     8 | Cost: 1.074286e-01\rIteration     9 | Cost: 9.531806e-02\rIteration    10 | Cost: 9.301912e-02\rIteration    11 | Cost: 8.418356e-02\rIteration    12 | Cost: 8.186322e-02\rIteration    13 | Cost: 7.743126e-02\rIteration    14 | Cost: 7.645181e-02\rIteration    15 | Cost: 7.209877e-02\rIteration    16 | Cost: 7.195896e-02\rIteration    17 | Cost: 7.106302e-02\rIteration    18 | Cost: 7.081516e-02\rIteration    19 | Cost: 6.984782e-02\rIteration    20 | Cost: 6.908892e-02\rIteration    21 | Cost: 6.818820e-02\rIteration    22 | Cost: 6.804182e-02\rIteration    23 | Cost: 6.788125e-02\rIteration    24 | Cost: 6.779397e-02\rIteration    25 | Cost: 6.767277e-02\rIteration    26 | Cost: 6.760372e-02\rIteration    27 | Cost: 6.740638e-02\rIteration    28 | Cost: 6.731728e-02\rIteration    29 | Cost: 6.698888e-02\rIteration    30 | Cost: 6.692984e-02\rIteration    31 | Cost: 6.630404e-02\rIteration    32 | Cost: 6.606809e-02\rIteration    33 | Cost: 6.466816e-02\rIteration    34 | Cost: 6.426962e-02\rIteration    35 | Cost: 6.267791e-02\rIteration    36 | Cost: 6.251575e-02\rIteration    37 | Cost: 6.202834e-02\rIteration    38 | Cost: 6.188521e-02\rIteration    39 | Cost: 6.013896e-02\rIteration    40 | Cost: 5.937078e-02\rIteration    41 | Cost: 5.888593e-02\rIteration    42 | Cost: 5.862828e-02\rIteration    43 | Cost: 5.854428e-02\rIteration    44 | Cost: 5.847598e-02\rIteration    45 | Cost: 5.840090e-02\rIteration    46 | Cost: 5.812348e-02\rIteration    47 | Cost: 5.803253e-02\rIteration    48 | Cost: 5.773500e-02\rIteration    49 | Cost: 5.763058e-02\r",
            "Iteration    50 | Cost: 5.725231e-02\r\n",
            "Iteration     1 | Cost: 3.456557e-01\rIteration     2 | Cost: 2.179164e-01\rIteration     3 | Cost: 1.784174e-01\rIteration     4 | Cost: 1.678808e-01\rIteration     5 | Cost: 1.427129e-01\rIteration     6 | Cost: 1.150393e-01\rIteration     7 | Cost: 1.063718e-01\rIteration     8 | Cost: 9.707803e-02\rIteration     9 | Cost: 9.518367e-02\rIteration    10 | Cost: 9.035733e-02\rIteration    11 | Cost: 8.928846e-02\rIteration    12 | Cost: 8.531186e-02\rIteration    13 | Cost: 8.333526e-02\rIteration    14 | Cost: 8.052683e-02\rIteration    15 | Cost: 7.932857e-02\rIteration    16 | Cost: 7.672637e-02\rIteration    17 | Cost: 7.530942e-02\rIteration    18 | Cost: 7.500108e-02\rIteration    19 | Cost: 7.445295e-02\rIteration    20 | Cost: 7.391453e-02\rIteration    21 | Cost: 7.349869e-02\rIteration    22 | Cost: 7.307295e-02\rIteration    23 | Cost: 7.296937e-02\rIteration    24 | Cost: 7.262398e-02\rIteration    25 | Cost: 7.129794e-02\rIteration    26 | Cost: 7.118480e-02\rIteration    27 | Cost: 7.089717e-02\rIteration    28 | Cost: 6.963444e-02\rIteration    29 | Cost: 6.959800e-02\rIteration    30 | Cost: 6.916223e-02\rIteration    31 | Cost: 6.893777e-02\rIteration    32 | Cost: 6.891915e-02\rIteration    33 | Cost: 6.872550e-02\rIteration    34 | Cost: 6.853717e-02\rIteration    35 | Cost: 6.849788e-02\rIteration    36 | Cost: 6.754822e-02\rIteration    37 | Cost: 6.715260e-02\rIteration    38 | Cost: 6.581804e-02\rIteration    39 | Cost: 6.573054e-02\rIteration    40 | Cost: 6.556094e-02\rIteration    41 | Cost: 6.516178e-02\rIteration    42 | Cost: 6.465422e-02\rIteration    43 | Cost: 6.445468e-02\rIteration    44 | Cost: 6.444908e-02\rIteration    45 | Cost: 6.438100e-02\rIteration    46 | Cost: 6.425846e-02\rIteration    47 | Cost: 6.422478e-02\rIteration    48 | Cost: 6.407732e-02\rIteration    49 | Cost: 6.395312e-02\r",
            "Iteration    50 | Cost: 6.384780e-02\r\n",
            "Iteration     1 | Cost: 3.205301e-01\rIteration     2 | Cost: 3.040759e-01\rIteration     3 | Cost: 1.649080e-01\rIteration     4 | Cost: 1.438784e-01\rIteration     5 | Cost: 9.416994e-02\rIteration     6 | Cost: 9.044270e-02\rIteration     7 | Cost: 7.499076e-02\rIteration     8 | Cost: 7.202465e-02\rIteration     9 | Cost: 6.313221e-02\rIteration    10 | Cost: 6.168143e-02\rIteration    11 | Cost: 5.762801e-02\rIteration    12 | Cost: 5.638036e-02\rIteration    13 | Cost: 5.517793e-02\rIteration    14 | Cost: 5.405985e-02\rIteration    15 | Cost: 5.332997e-02\rIteration    16 | Cost: 5.177817e-02\rIteration    17 | Cost: 5.019780e-02\rIteration    18 | Cost: 5.009061e-02\rIteration    19 | Cost: 4.933097e-02\rIteration    20 | Cost: 4.906466e-02\rIteration    21 | Cost: 4.795494e-02\rIteration    22 | Cost: 4.787525e-02\rIteration    23 | Cost: 4.736363e-02\rIteration    24 | Cost: 4.703862e-02\rIteration    25 | Cost: 4.594096e-02\rIteration    26 | Cost: 4.581041e-02\rIteration    27 | Cost: 4.439900e-02\rIteration    28 | Cost: 4.419348e-02\rIteration    29 | Cost: 4.354886e-02\rIteration    30 | Cost: 4.267125e-02\rIteration    31 | Cost: 4.260395e-02\rIteration    32 | Cost: 4.239234e-02\rIteration    33 | Cost: 4.229368e-02\rIteration    34 | Cost: 4.216114e-02\rIteration    35 | Cost: 4.195990e-02\rIteration    36 | Cost: 4.190463e-02\rIteration    37 | Cost: 4.036038e-02\rIteration    38 | Cost: 4.013563e-02\rIteration    39 | Cost: 3.854004e-02\rIteration    40 | Cost: 3.823468e-02\rIteration    41 | Cost: 3.688535e-02\rIteration    42 | Cost: 3.681300e-02\rIteration    43 | Cost: 3.670703e-02\rIteration    44 | Cost: 3.668275e-02\rIteration    45 | Cost: 3.650307e-02\rIteration    46 | Cost: 3.644655e-02\rIteration    47 | Cost: 3.636628e-02\rIteration    48 | Cost: 3.636379e-02\rIteration    49 | Cost: 3.634826e-02\r",
            "Iteration    50 | Cost: 3.628377e-02\r\n",
            "Iteration     1 | Cost: 3.314410e-01\rIteration     2 | Cost: 2.217377e-01\rIteration     3 | Cost: 1.929205e-01\rIteration     4 | Cost: 1.568866e-01\rIteration     5 | Cost: 1.318005e-01\rIteration     6 | Cost: 1.147878e-01\rIteration     7 | Cost: 1.124131e-01\rIteration     8 | Cost: 1.083564e-01\rIteration     9 | Cost: 1.069107e-01\rIteration    10 | Cost: 1.022962e-01\rIteration    11 | Cost: 1.017049e-01\rIteration    12 | Cost: 9.879326e-02\rIteration    13 | Cost: 9.731696e-02\rIteration    14 | Cost: 9.216899e-02\rIteration    15 | Cost: 9.032623e-02\rIteration    16 | Cost: 8.409627e-02\rIteration    17 | Cost: 8.140204e-02\rIteration    18 | Cost: 7.863906e-02\rIteration    19 | Cost: 7.835122e-02\rIteration    20 | Cost: 7.711350e-02\rIteration    21 | Cost: 7.671192e-02\rIteration    22 | Cost: 7.538515e-02\rIteration    23 | Cost: 7.517315e-02\rIteration    24 | Cost: 7.352966e-02\rIteration    25 | Cost: 7.269690e-02\rIteration    26 | Cost: 7.167827e-02\rIteration    27 | Cost: 7.156798e-02\rIteration    28 | Cost: 7.107344e-02\rIteration    29 | Cost: 7.057249e-02\rIteration    30 | Cost: 7.054742e-02\rIteration    31 | Cost: 7.051131e-02\rIteration    32 | Cost: 7.027145e-02\rIteration    33 | Cost: 7.015020e-02\rIteration    34 | Cost: 6.963282e-02\rIteration    35 | Cost: 6.921892e-02\rIteration    36 | Cost: 6.867102e-02\rIteration    37 | Cost: 6.864035e-02\rIteration    38 | Cost: 6.838629e-02\rIteration    39 | Cost: 6.832040e-02\rIteration    40 | Cost: 6.803653e-02\rIteration    41 | Cost: 6.775374e-02\rIteration    42 | Cost: 6.726332e-02\rIteration    43 | Cost: 6.682672e-02\rIteration    44 | Cost: 6.473842e-02\rIteration    45 | Cost: 6.414533e-02\rIteration    46 | Cost: 6.344933e-02\rIteration    47 | Cost: 6.291373e-02\rIteration    48 | Cost: 6.234702e-02\rIteration    49 | Cost: 6.197532e-02\r",
            "Iteration    50 | Cost: 6.187287e-02\r\n",
            "Iteration     1 | Cost: 3.354875e-01\rIteration     2 | Cost: 2.188639e-01\rIteration     3 | Cost: 9.772130e-02\rIteration     4 | Cost: 8.460314e-02\rIteration     5 | Cost: 5.991024e-02\rIteration     6 | Cost: 5.318810e-02\rIteration     7 | Cost: 4.521935e-02\rIteration     8 | Cost: 4.117442e-02\rIteration     9 | Cost: 3.978801e-02\rIteration    10 | Cost: 3.874084e-02\rIteration    11 | Cost: 3.814846e-02\rIteration    12 | Cost: 3.812015e-02\rIteration    13 | Cost: 3.791387e-02\rIteration    14 | Cost: 3.720946e-02\rIteration    15 | Cost: 3.578365e-02\rIteration    16 | Cost: 3.474696e-02\rIteration    17 | Cost: 3.395842e-02\rIteration    18 | Cost: 3.351052e-02\rIteration    19 | Cost: 3.326145e-02\rIteration    20 | Cost: 3.314033e-02\rIteration    21 | Cost: 3.180976e-02\rIteration    22 | Cost: 3.138624e-02\rIteration    23 | Cost: 3.012590e-02\rIteration    24 | Cost: 2.930241e-02\rIteration    25 | Cost: 2.893187e-02\rIteration    26 | Cost: 2.802475e-02\rIteration    27 | Cost: 2.666013e-02\rIteration    28 | Cost: 2.654574e-02\rIteration    29 | Cost: 2.573053e-02\rIteration    30 | Cost: 2.537200e-02\rIteration    31 | Cost: 2.517240e-02\rIteration    32 | Cost: 2.513433e-02\rIteration    33 | Cost: 2.503069e-02\rIteration    34 | Cost: 2.494552e-02\rIteration    35 | Cost: 2.493219e-02\rIteration    36 | Cost: 2.480208e-02\rIteration    37 | Cost: 2.433121e-02\rIteration    38 | Cost: 2.390532e-02\rIteration    39 | Cost: 2.342335e-02\rIteration    40 | Cost: 2.341164e-02\rIteration    41 | Cost: 2.329728e-02\rIteration    42 | Cost: 2.284582e-02\rIteration    43 | Cost: 2.269711e-02\rIteration    44 | Cost: 2.261579e-02\rIteration    45 | Cost: 2.241006e-02\rIteration    46 | Cost: 2.236491e-02\rIteration    47 | Cost: 2.207163e-02\rIteration    48 | Cost: 2.204008e-02\rIteration    49 | Cost: 2.177239e-02\r",
            "Iteration    50 | Cost: 2.167807e-02\r\n",
            "Iteration     1 | Cost: 3.142799e-01\rIteration     2 | Cost: 1.938915e-01\rIteration     3 | Cost: 9.858322e-02\rIteration     4 | Cost: 8.666461e-02\rIteration     5 | Cost: 6.518233e-02\rIteration     6 | Cost: 6.163782e-02\rIteration     7 | Cost: 5.886007e-02\rIteration     8 | Cost: 5.773973e-02\rIteration     9 | Cost: 5.334455e-02\rIteration    10 | Cost: 5.036396e-02\rIteration    11 | Cost: 4.994868e-02\rIteration    12 | Cost: 4.964157e-02\rIteration    13 | Cost: 4.945483e-02\rIteration    14 | Cost: 4.920530e-02\rIteration    15 | Cost: 4.880147e-02\rIteration    16 | Cost: 4.766125e-02\rIteration    17 | Cost: 4.683578e-02\rIteration    18 | Cost: 4.573370e-02\rIteration    19 | Cost: 4.507942e-02\rIteration    20 | Cost: 4.501869e-02\rIteration    21 | Cost: 4.433528e-02\rIteration    22 | Cost: 4.271154e-02\rIteration    23 | Cost: 4.251498e-02\rIteration    24 | Cost: 4.191880e-02\rIteration    25 | Cost: 4.178635e-02\rIteration    26 | Cost: 4.147292e-02\rIteration    27 | Cost: 4.139877e-02\rIteration    28 | Cost: 4.119548e-02\rIteration    29 | Cost: 4.051791e-02\rIteration    30 | Cost: 4.039230e-02\rIteration    31 | Cost: 3.980251e-02\rIteration    32 | Cost: 3.956674e-02\rIteration    33 | Cost: 3.884199e-02\rIteration    34 | Cost: 3.804693e-02\rIteration    35 | Cost: 3.768924e-02\rIteration    36 | Cost: 3.759241e-02\rIteration    37 | Cost: 3.745466e-02\rIteration    38 | Cost: 3.720124e-02\rIteration    39 | Cost: 3.716452e-02\rIteration    40 | Cost: 3.700691e-02\rIteration    41 | Cost: 3.699071e-02\rIteration    42 | Cost: 3.692530e-02\rIteration    43 | Cost: 3.691093e-02\rIteration    44 | Cost: 3.680644e-02\rIteration    45 | Cost: 3.612580e-02\rIteration    46 | Cost: 3.534760e-02\rIteration    47 | Cost: 3.495219e-02\rIteration    48 | Cost: 3.485025e-02\rIteration    49 | Cost: 3.471667e-02\r",
            "Iteration    50 | Cost: 3.458310e-02\r\n",
            "Iteration     1 | Cost: 3.693354e-01\rIteration     2 | Cost: 2.565067e-01\rIteration     3 | Cost: 2.370476e-01\rIteration     4 | Cost: 2.341589e-01\rIteration     5 | Cost: 2.103654e-01\rIteration     6 | Cost: 1.781526e-01\rIteration     7 | Cost: 1.659830e-01\rIteration     8 | Cost: 1.523508e-01\rIteration     9 | Cost: 1.506519e-01\rIteration    10 | Cost: 1.400809e-01\rIteration    11 | Cost: 1.383318e-01\rIteration    12 | Cost: 1.229135e-01\rIteration    13 | Cost: 1.205599e-01\rIteration    14 | Cost: 1.123879e-01\rIteration    15 | Cost: 1.110733e-01\rIteration    16 | Cost: 1.073286e-01\rIteration    17 | Cost: 1.068798e-01\rIteration    18 | Cost: 1.058981e-01\rIteration    19 | Cost: 1.056835e-01\rIteration    20 | Cost: 1.019768e-01\rIteration    21 | Cost: 1.010370e-01\rIteration    22 | Cost: 9.828022e-02\rIteration    23 | Cost: 9.812436e-02\rIteration    24 | Cost: 9.792314e-02\rIteration    25 | Cost: 9.689705e-02\rIteration    26 | Cost: 9.686948e-02\rIteration    27 | Cost: 9.630516e-02\rIteration    28 | Cost: 9.595524e-02\rIteration    29 | Cost: 9.439663e-02\rIteration    30 | Cost: 9.385266e-02\rIteration    31 | Cost: 9.343079e-02\rIteration    32 | Cost: 9.268394e-02\rIteration    33 | Cost: 9.194399e-02\rIteration    34 | Cost: 9.122536e-02\rIteration    35 | Cost: 9.091221e-02\rIteration    36 | Cost: 9.075899e-02\rIteration    37 | Cost: 9.055133e-02\rIteration    38 | Cost: 8.988152e-02\rIteration    39 | Cost: 8.962567e-02\rIteration    40 | Cost: 8.948810e-02\rIteration    41 | Cost: 8.933896e-02\rIteration    42 | Cost: 8.918876e-02\rIteration    43 | Cost: 8.917030e-02\rIteration    44 | Cost: 8.862790e-02\rIteration    45 | Cost: 8.848712e-02\rIteration    46 | Cost: 8.722661e-02\rIteration    47 | Cost: 8.702438e-02\rIteration    48 | Cost: 8.623196e-02\rIteration    49 | Cost: 8.603979e-02\r",
            "Iteration    50 | Cost: 8.551314e-02\r\n",
            "Iteration     1 | Cost: 3.369306e-01\rIteration     2 | Cost: 2.513191e-01\rIteration     3 | Cost: 2.358271e-01\rIteration     4 | Cost: 2.352523e-01\rIteration     5 | Cost: 1.867055e-01\rIteration     6 | Cost: 1.526791e-01\rIteration     7 | Cost: 1.488460e-01\rIteration     8 | Cost: 1.385401e-01\rIteration     9 | Cost: 1.363013e-01\rIteration    10 | Cost: 1.276495e-01\rIteration    11 | Cost: 1.258539e-01\rIteration    12 | Cost: 1.193549e-01\rIteration    13 | Cost: 1.139919e-01\rIteration    14 | Cost: 1.070966e-01\rIteration    15 | Cost: 1.037065e-01\rIteration    16 | Cost: 9.936582e-02\rIteration    17 | Cost: 9.883916e-02\rIteration    18 | Cost: 9.734415e-02\rIteration    19 | Cost: 9.705827e-02\rIteration    20 | Cost: 9.578377e-02\rIteration    21 | Cost: 9.569713e-02\rIteration    22 | Cost: 9.483495e-02\rIteration    23 | Cost: 9.439928e-02\rIteration    24 | Cost: 9.143805e-02\rIteration    25 | Cost: 9.082974e-02\rIteration    26 | Cost: 8.992841e-02\rIteration    27 | Cost: 8.982376e-02\rIteration    28 | Cost: 8.939125e-02\rIteration    29 | Cost: 8.917813e-02\rIteration    30 | Cost: 8.913997e-02\rIteration    31 | Cost: 8.878267e-02\rIteration    32 | Cost: 8.832442e-02\rIteration    33 | Cost: 8.816138e-02\rIteration    34 | Cost: 8.757906e-02\rIteration    35 | Cost: 8.738979e-02\rIteration    36 | Cost: 8.699241e-02\rIteration    37 | Cost: 8.693529e-02\rIteration    38 | Cost: 8.623914e-02\rIteration    39 | Cost: 8.616854e-02\rIteration    40 | Cost: 8.587655e-02\rIteration    41 | Cost: 8.572546e-02\rIteration    42 | Cost: 8.570001e-02\rIteration    43 | Cost: 8.541964e-02\rIteration    44 | Cost: 8.513626e-02\rIteration    45 | Cost: 8.507817e-02\rIteration    46 | Cost: 8.490829e-02\rIteration    47 | Cost: 8.429061e-02\rIteration    48 | Cost: 8.249588e-02\rIteration    49 | Cost: 8.220702e-02\r",
            "Iteration    50 | Cost: 8.145378e-02\r\n",
            "Iteration     1 | Cost: 3.478011e-01\rIteration     2 | Cost: 2.074559e-01\rIteration     3 | Cost: 1.108108e-01\rIteration     4 | Cost: 9.723535e-02\rIteration     5 | Cost: 4.845901e-02\rIteration     6 | Cost: 4.571820e-02\rIteration     7 | Cost: 3.405605e-02\rIteration     8 | Cost: 3.350113e-02\rIteration     9 | Cost: 2.829574e-02\rIteration    10 | Cost: 2.671193e-02\rIteration    11 | Cost: 2.288809e-02\rIteration    12 | Cost: 2.267282e-02\rIteration    13 | Cost: 2.048262e-02\rIteration    14 | Cost: 2.001572e-02\rIteration    15 | Cost: 1.815609e-02\rIteration    16 | Cost: 1.791330e-02\rIteration    17 | Cost: 1.723808e-02\rIteration    18 | Cost: 1.702208e-02\rIteration    19 | Cost: 1.633115e-02\rIteration    20 | Cost: 1.586407e-02\rIteration    21 | Cost: 1.557474e-02\rIteration    22 | Cost: 1.528102e-02\rIteration    23 | Cost: 1.500042e-02\rIteration    24 | Cost: 1.495532e-02\rIteration    25 | Cost: 1.464703e-02\rIteration    26 | Cost: 1.450265e-02\rIteration    27 | Cost: 1.399742e-02\rIteration    28 | Cost: 1.345917e-02\rIteration    29 | Cost: 1.321219e-02\rIteration    30 | Cost: 1.320100e-02\rIteration    31 | Cost: 1.294498e-02\rIteration    32 | Cost: 1.260010e-02\rIteration    33 | Cost: 1.256812e-02\rIteration    34 | Cost: 1.243740e-02\rIteration    35 | Cost: 1.236272e-02\rIteration    36 | Cost: 1.230297e-02\rIteration    37 | Cost: 1.223895e-02\rIteration    38 | Cost: 1.217599e-02\rIteration    39 | Cost: 1.214851e-02\rIteration    40 | Cost: 1.208399e-02\rIteration    41 | Cost: 1.149741e-02\rIteration    42 | Cost: 1.073315e-02\rIteration    43 | Cost: 1.017351e-02\rIteration    44 | Cost: 1.014884e-02\rIteration    45 | Cost: 1.004643e-02\rIteration    46 | Cost: 9.978104e-03\rIteration    47 | Cost: 9.961910e-03\rIteration    48 | Cost: 9.827897e-03\rIteration    49 | Cost: 9.784138e-03\r",
            "Iteration    50 | Cost: 9.599378e-03\r\n"
          ]
        }
      ],
      "execution_count": 6,
      "metadata": {
        "collapsed": false
      }
    },
    {
      "cell_type": "markdown",
      "source": [
        "## Part 3: Predict for One-Vs-All \n",
        "After ..."
      ],
      "metadata": {}
    },
    {
      "cell_type": "code",
      "source": [
        "pred = predictOneVsAll(all_theta, X);\n",
        "fprintf('\\nTraining Set Accuracy: %f\\n', mean(double(pred == y)) * 100);"
      ],
      "outputs": [
        {
          "output_type": "stream",
          "name": "stdout",
          "text": [
            "\n",
            "Training Set Accuracy: 95.080000\n"
          ]
        }
      ],
      "execution_count": 7,
      "metadata": {
        "collapsed": false
      }
    },
    {
      "cell_type": "code",
      "source": [
        "submit()"
      ],
      "outputs": [
        {
          "output_type": "stream",
          "name": "stdout",
          "text": [
            "== Submitting solutions | Multi-class Classification and Neural Networks...\n",
            "Use token from last successful submission (jschmolling@googlemail.com)? (Y/n):n\n",
            "Login (email address):jschmolling@googlemail.com\n",
            "Token:xJaEbivK42d9j0KJ\n",
            "Iteration    27 | Cost: 3.391340e-01\n",
            "Iteration    23 | Cost: 6.631438e-02\n",
            "Iteration    31 | Cost: 1.002636e-01\n",
            "Iteration    20 | Cost: 3.598119e-01\n",
            "!! Submission failed: You used a token for \"Logistic Regression\" in \"Machine Learning\". Please use a token for the assignment you are submitting.\n"
          ]
        }
      ],
      "execution_count": 2,
      "metadata": {
        "collapsed": false
      }
    },
    {
      "cell_type": "code",
      "source": [],
      "outputs": [],
      "execution_count": null,
      "metadata": {
        "collapsed": true
      }
    }
  ],
  "metadata": {
    "kernelspec": {
      "name": "octave",
      "language": "octave",
      "display_name": "Octave"
    },
    "language_info": {
      "help_links": [
        {
          "text": "GNU Octave",
          "url": "https://www.gnu.org/software/octave/support.html"
        },
        {
          "text": "Octave Kernel",
          "url": "https://github.com/Calysto/octave_kernel"
        },
        {
          "text": "MetaKernel Magics",
          "url": "https://github.com/calysto/metakernel/blob/master/metakernel/magics/README.md"
        }
      ],
      "version": "4.2.1",
      "file_extension": ".m",
      "name": "octave",
      "mimetype": "text/x-octave"
    },
    "kernel_info": {
      "name": "octave"
    }
  },
  "nbformat": 4,
  "nbformat_minor": 0
}